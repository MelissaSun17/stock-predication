{
  "nbformat": 4,
  "nbformat_minor": 0,
  "metadata": {
    "interpreter": {
      "hash": "83905e2ecb02d369faba43e180debf4cbb41d631f26fb5ef158a18253d44b0a3"
    },
    "kernelspec": {
      "display_name": "Python 3.7.10 64-bit ('mge1.4': conda)",
      "language": "python",
      "name": "python3"
    },
    "language_info": {
      "codemirror_mode": {
        "name": "ipython",
        "version": 3
      },
      "file_extension": ".py",
      "mimetype": "text/x-python",
      "name": "python",
      "nbconvert_exporter": "python",
      "pygments_lexer": "ipython3",
      "version": "3.7.10"
    },
    "orig_nbformat": 4,
    "colab": {
      "name": "GRU_20091314.ipynb",
      "provenance": [],
      "collapsed_sections": []
    }
  },
  "cells": [
    {
      "cell_type": "code",
      "metadata": {
        "colab": {
          "base_uri": "https://localhost:8080/"
        },
        "id": "seOOJL5OyGY0",
        "outputId": "118b56f3-a60e-4965-e652-b3cdc07b43d9"
      },
      "source": [
        "# extract data from kaggle \n",
        "!pip install kaggle\n",
        "!pip install --upgrade --force-reinstall --no-deps kaggle"
      ],
      "execution_count": 24,
      "outputs": [
        {
          "output_type": "stream",
          "name": "stdout",
          "text": [
            "Requirement already satisfied: kaggle in /usr/local/lib/python3.7/dist-packages (1.5.12)\n",
            "Requirement already satisfied: python-dateutil in /usr/local/lib/python3.7/dist-packages (from kaggle) (2.8.2)\n",
            "Requirement already satisfied: python-slugify in /usr/local/lib/python3.7/dist-packages (from kaggle) (5.0.2)\n",
            "Requirement already satisfied: six>=1.10 in /usr/local/lib/python3.7/dist-packages (from kaggle) (1.15.0)\n",
            "Requirement already satisfied: requests in /usr/local/lib/python3.7/dist-packages (from kaggle) (2.23.0)\n",
            "Requirement already satisfied: urllib3 in /usr/local/lib/python3.7/dist-packages (from kaggle) (1.24.3)\n",
            "Requirement already satisfied: tqdm in /usr/local/lib/python3.7/dist-packages (from kaggle) (4.62.3)\n",
            "Requirement already satisfied: certifi in /usr/local/lib/python3.7/dist-packages (from kaggle) (2021.10.8)\n",
            "Requirement already satisfied: text-unidecode>=1.3 in /usr/local/lib/python3.7/dist-packages (from python-slugify->kaggle) (1.3)\n",
            "Requirement already satisfied: chardet<4,>=3.0.2 in /usr/local/lib/python3.7/dist-packages (from requests->kaggle) (3.0.4)\n",
            "Requirement already satisfied: idna<3,>=2.5 in /usr/local/lib/python3.7/dist-packages (from requests->kaggle) (2.10)\n",
            "Collecting kaggle\n",
            "  Using cached kaggle-1.5.12-py3-none-any.whl\n",
            "Installing collected packages: kaggle\n",
            "  Attempting uninstall: kaggle\n",
            "    Found existing installation: kaggle 1.5.12\n",
            "    Uninstalling kaggle-1.5.12:\n",
            "      Successfully uninstalled kaggle-1.5.12\n",
            "Successfully installed kaggle-1.5.12\n"
          ]
        }
      ]
    },
    {
      "cell_type": "code",
      "metadata": {
        "id": "J2BgcAnOyJdD"
      },
      "source": [
        "import json\n",
        "token = {\"username\":\"sifanzhu\",\"key\":\"7d5ff1d4a014fea1778bb07fb530b524\"}\n",
        "with open('/content/kaggle.json', 'w') as file:\n",
        "  json.dump(token, file)"
      ],
      "execution_count": 25,
      "outputs": []
    },
    {
      "cell_type": "code",
      "metadata": {
        "colab": {
          "base_uri": "https://localhost:8080/"
        },
        "id": "auV5G7LdyMOL",
        "outputId": "7246052d-01d0-4506-89a3-550af1f17f12"
      },
      "source": [
        "!mkdir -p ~/.kaggle\n",
        "!cp /content/kaggle.json ~/.kaggle/\n",
        "!chmod 600 ~/.kaggle/kaggle.json\n",
        "!kaggle config set -n path -v /content"
      ],
      "execution_count": 26,
      "outputs": [
        {
          "output_type": "stream",
          "name": "stdout",
          "text": [
            "- path is now set to: /content\n"
          ]
        }
      ]
    },
    {
      "cell_type": "code",
      "metadata": {
        "colab": {
          "base_uri": "https://localhost:8080/"
        },
        "id": "1omgGuWKyOcO",
        "outputId": "701710ce-955e-4e1c-f828-af0f044fea2a"
      },
      "source": [
        "!kaggle datasets download -d dgawlik/nyse"
      ],
      "execution_count": 27,
      "outputs": [
        {
          "output_type": "stream",
          "name": "stdout",
          "text": [
            "nyse.zip: Skipping, found more recently modified local copy (use --force to force download)\n"
          ]
        }
      ]
    },
    {
      "cell_type": "code",
      "metadata": {
        "id": "5kJW8iJByRBo"
      },
      "source": [
        "!unzip -uq \"/content/datasets/dgawlik/nyse/nyse.zip\" -d \"/content/datasets\""
      ],
      "execution_count": 28,
      "outputs": []
    },
    {
      "cell_type": "code",
      "metadata": {
        "colab": {
          "base_uri": "https://localhost:8080/",
          "height": 200
        },
        "id": "z4ISjDtLFKBL",
        "outputId": "d30d8950-a0d4-4952-a615-0193c621bde0"
      },
      "source": [
        "import numpy as np\n",
        "import pandas as pd\n",
        "# database display\n",
        "df_prices = pd.read_csv('/content/datasets/prices.csv')\n",
        "\n",
        "df_prices.head()"
      ],
      "execution_count": 29,
      "outputs": [
        {
          "output_type": "execute_result",
          "data": {
            "text/html": [
              "<div>\n",
              "<style scoped>\n",
              "    .dataframe tbody tr th:only-of-type {\n",
              "        vertical-align: middle;\n",
              "    }\n",
              "\n",
              "    .dataframe tbody tr th {\n",
              "        vertical-align: top;\n",
              "    }\n",
              "\n",
              "    .dataframe thead th {\n",
              "        text-align: right;\n",
              "    }\n",
              "</style>\n",
              "<table border=\"1\" class=\"dataframe\">\n",
              "  <thead>\n",
              "    <tr style=\"text-align: right;\">\n",
              "      <th></th>\n",
              "      <th>date</th>\n",
              "      <th>symbol</th>\n",
              "      <th>open</th>\n",
              "      <th>close</th>\n",
              "      <th>low</th>\n",
              "      <th>high</th>\n",
              "      <th>volume</th>\n",
              "    </tr>\n",
              "  </thead>\n",
              "  <tbody>\n",
              "    <tr>\n",
              "      <th>0</th>\n",
              "      <td>2016-01-05 00:00:00</td>\n",
              "      <td>WLTW</td>\n",
              "      <td>123.430000</td>\n",
              "      <td>125.839996</td>\n",
              "      <td>122.309998</td>\n",
              "      <td>126.250000</td>\n",
              "      <td>2163600.0</td>\n",
              "    </tr>\n",
              "    <tr>\n",
              "      <th>1</th>\n",
              "      <td>2016-01-06 00:00:00</td>\n",
              "      <td>WLTW</td>\n",
              "      <td>125.239998</td>\n",
              "      <td>119.980003</td>\n",
              "      <td>119.940002</td>\n",
              "      <td>125.540001</td>\n",
              "      <td>2386400.0</td>\n",
              "    </tr>\n",
              "    <tr>\n",
              "      <th>2</th>\n",
              "      <td>2016-01-07 00:00:00</td>\n",
              "      <td>WLTW</td>\n",
              "      <td>116.379997</td>\n",
              "      <td>114.949997</td>\n",
              "      <td>114.930000</td>\n",
              "      <td>119.739998</td>\n",
              "      <td>2489500.0</td>\n",
              "    </tr>\n",
              "    <tr>\n",
              "      <th>3</th>\n",
              "      <td>2016-01-08 00:00:00</td>\n",
              "      <td>WLTW</td>\n",
              "      <td>115.480003</td>\n",
              "      <td>116.620003</td>\n",
              "      <td>113.500000</td>\n",
              "      <td>117.440002</td>\n",
              "      <td>2006300.0</td>\n",
              "    </tr>\n",
              "    <tr>\n",
              "      <th>4</th>\n",
              "      <td>2016-01-11 00:00:00</td>\n",
              "      <td>WLTW</td>\n",
              "      <td>117.010002</td>\n",
              "      <td>114.970001</td>\n",
              "      <td>114.089996</td>\n",
              "      <td>117.330002</td>\n",
              "      <td>1408600.0</td>\n",
              "    </tr>\n",
              "  </tbody>\n",
              "</table>\n",
              "</div>"
            ],
            "text/plain": [
              "                  date symbol        open  ...         low        high     volume\n",
              "0  2016-01-05 00:00:00   WLTW  123.430000  ...  122.309998  126.250000  2163600.0\n",
              "1  2016-01-06 00:00:00   WLTW  125.239998  ...  119.940002  125.540001  2386400.0\n",
              "2  2016-01-07 00:00:00   WLTW  116.379997  ...  114.930000  119.739998  2489500.0\n",
              "3  2016-01-08 00:00:00   WLTW  115.480003  ...  113.500000  117.440002  2006300.0\n",
              "4  2016-01-11 00:00:00   WLTW  117.010002  ...  114.089996  117.330002  1408600.0\n",
              "\n",
              "[5 rows x 7 columns]"
            ]
          },
          "metadata": {},
          "execution_count": 29
        }
      ]
    },
    {
      "cell_type": "code",
      "metadata": {
        "id": "HqC-GRV0yFiK"
      },
      "source": [
        ""
      ],
      "execution_count": 29,
      "outputs": []
    },
    {
      "cell_type": "code",
      "metadata": {
        "colab": {
          "base_uri": "https://localhost:8080/"
        },
        "id": "STweSjw5FKBO",
        "outputId": "8a2745c1-5f49-400b-e0fb-fa011bee014b"
      },
      "source": [
        "df_prices.info()"
      ],
      "execution_count": 30,
      "outputs": [
        {
          "output_type": "stream",
          "name": "stdout",
          "text": [
            "<class 'pandas.core.frame.DataFrame'>\n",
            "RangeIndex: 851264 entries, 0 to 851263\n",
            "Data columns (total 7 columns):\n",
            " #   Column  Non-Null Count   Dtype  \n",
            "---  ------  --------------   -----  \n",
            " 0   date    851264 non-null  object \n",
            " 1   symbol  851264 non-null  object \n",
            " 2   open    851264 non-null  float64\n",
            " 3   close   851264 non-null  float64\n",
            " 4   low     851264 non-null  float64\n",
            " 5   high    851264 non-null  float64\n",
            " 6   volume  851264 non-null  float64\n",
            "dtypes: float64(5), object(2)\n",
            "memory usage: 45.5+ MB\n"
          ]
        }
      ]
    },
    {
      "cell_type": "code",
      "metadata": {
        "colab": {
          "base_uri": "https://localhost:8080/"
        },
        "id": "2GBiCyRdFKBP",
        "outputId": "b9565789-c26c-456b-9655-25509ebed793"
      },
      "source": [
        "# extract the unique symble from the database\n",
        "df_prices['symbol'].unique()"
      ],
      "execution_count": 31,
      "outputs": [
        {
          "output_type": "execute_result",
          "data": {
            "text/plain": [
              "array(['WLTW', 'A', 'AAL', 'AAP', 'AAPL', 'ABC', 'ABT', 'ACN', 'ADBE',\n",
              "       'ADI', 'ADM', 'ADP', 'ADS', 'ADSK', 'AEE', 'AEP', 'AES', 'AET',\n",
              "       'AFL', 'AGN', 'AIG', 'AIZ', 'AJG', 'AKAM', 'ALB', 'ALK', 'ALL',\n",
              "       'ALXN', 'AMAT', 'AME', 'AMG', 'AMGN', 'AMP', 'AMT', 'AMZN', 'AN',\n",
              "       'ANTM', 'AON', 'APA', 'APC', 'APD', 'APH', 'ARNC', 'ATVI', 'AVB',\n",
              "       'AVGO', 'AVY', 'AWK', 'AXP', 'AYI', 'AZO', 'BA', 'BAC', 'BAX',\n",
              "       'BBBY', 'BBT', 'BBY', 'BCR', 'BDX', 'BEN', 'BHI', 'BIIB', 'BK',\n",
              "       'BLK', 'BLL', 'BMY', 'BSX', 'BWA', 'BXP', 'C', 'CA', 'CAG', 'CAH',\n",
              "       'CAT', 'CB', 'CBG', 'CBS', 'CCI', 'CCL', 'CELG', 'CERN', 'CF',\n",
              "       'CHD', 'CHK', 'CHRW', 'CI', 'CINF', 'CL', 'CLX', 'CMA', 'CMCSA',\n",
              "       'CME', 'CMG', 'CMI', 'CMS', 'CNC', 'CNP', 'COF', 'COG', 'COH',\n",
              "       'COL', 'COO', 'COP', 'COST', 'CPB', 'CRM', 'CSCO', 'CSX', 'CTAS',\n",
              "       'CTL', 'CTSH', 'CTXS', 'CVS', 'CVX', 'CXO', 'D', 'DAL', 'DD', 'DE',\n",
              "       'DFS', 'DG', 'DGX', 'DHI', 'DHR', 'DIS', 'DISCA', 'DISCK', 'DLR',\n",
              "       'DLTR', 'DNB', 'DOV', 'DOW', 'DPS', 'DRI', 'DTE', 'DUK', 'DVA',\n",
              "       'DVN', 'EA', 'EBAY', 'ECL', 'ED', 'EFX', 'EIX', 'EL', 'EMN', 'EMR',\n",
              "       'ENDP', 'EOG', 'EQIX', 'EQR', 'EQT', 'ES', 'ESRX', 'ESS', 'ETFC',\n",
              "       'ETN', 'ETR', 'EW', 'EXC', 'EXPD', 'EXPE', 'EXR', 'F', 'FAST',\n",
              "       'FCX', 'FDX', 'FE', 'FFIV', 'FIS', 'FISV', 'FITB', 'FL', 'FLIR',\n",
              "       'FLR', 'FLS', 'FMC', 'FOX', 'FOXA', 'FRT', 'FSLR', 'FTI', 'FTR',\n",
              "       'GD', 'GE', 'GGP', 'GILD', 'GIS', 'GLW', 'GOOG', 'GOOGL', 'GPC',\n",
              "       'GPN', 'GPS', 'GRMN', 'GS', 'GT', 'GWW', 'HAL', 'HAR', 'HAS',\n",
              "       'HBAN', 'HBI', 'HCN', 'HCP', 'HD', 'HES', 'HIG', 'HOG', 'HOLX',\n",
              "       'HON', 'HP', 'HPQ', 'HRB', 'HRL', 'HRS', 'HSIC', 'HST', 'HSY',\n",
              "       'HUM', 'IBM', 'ICE', 'IDXX', 'IFF', 'ILMN', 'INTC', 'INTU', 'IP',\n",
              "       'IPG', 'IR', 'IRM', 'ISRG', 'ITW', 'IVZ', 'JBHT', 'JCI', 'JEC',\n",
              "       'JNJ', 'JNPR', 'JPM', 'JWN', 'K', 'KEY', 'KIM', 'KLAC', 'KMB',\n",
              "       'KMX', 'KO', 'KR', 'KSS', 'KSU', 'L', 'LB', 'LEG', 'LEN', 'LH',\n",
              "       'LKQ', 'LLL', 'LLTC', 'LLY', 'LMT', 'LNC', 'LNT', 'LOW', 'LRCX',\n",
              "       'LUK', 'LUV', 'LVLT', 'M', 'MA', 'MAA', 'MAC', 'MAR', 'MAS', 'MAT',\n",
              "       'MCD', 'MCHP', 'MCK', 'MCO', 'MDLZ', 'MDT', 'MET', 'MHK', 'MJN',\n",
              "       'MKC', 'MLM', 'MMC', 'MMM', 'MNST', 'MO', 'MON', 'MOS', 'MRK',\n",
              "       'MRO', 'MSFT', 'MSI', 'MTB', 'MTD', 'MU', 'MUR', 'MYL', 'NBL',\n",
              "       'NDAQ', 'NEE', 'NEM', 'NFLX', 'NFX', 'NI', 'NKE', 'NOC', 'NOV',\n",
              "       'NRG', 'NSC', 'NTAP', 'NTRS', 'NUE', 'NVDA', 'NWL', 'O', 'OKE',\n",
              "       'OMC', 'ORCL', 'ORLY', 'OXY', 'PAYX', 'PBCT', 'PBI', 'PCAR', 'PCG',\n",
              "       'PCLN', 'PDCO', 'PEG', 'PEP', 'PFE', 'PFG', 'PG', 'PGR', 'PH',\n",
              "       'PHM', 'PKI', 'PLD', 'PM', 'PNC', 'PNR', 'PNW', 'PPG', 'PPL',\n",
              "       'PRGO', 'PRU', 'PSA', 'PVH', 'PWR', 'PX', 'PXD', 'QCOM', 'R',\n",
              "       'RAI', 'RCL', 'REGN', 'RF', 'RHI', 'RHT', 'RIG', 'RL', 'ROK',\n",
              "       'ROP', 'ROST', 'RRC', 'RSG', 'RTN', 'SBUX', 'SCG', 'SCHW', 'SE',\n",
              "       'SEE', 'SHW', 'SIG', 'SJM', 'SLB', 'SLG', 'SNA', 'SNI', 'SO',\n",
              "       'SPG', 'SPGI', 'SPLS', 'SRCL', 'SRE', 'STI', 'STT', 'STX', 'STZ',\n",
              "       'SWK', 'SWKS', 'SWN', 'SYK', 'SYMC', 'SYY', 'T', 'TAP', 'TDC',\n",
              "       'TEL', 'TGNA', 'TGT', 'TIF', 'TJX', 'TMK', 'TMO', 'TROW', 'TRV',\n",
              "       'TSCO', 'TSN', 'TSO', 'TSS', 'TWX', 'TXN', 'TXT', 'UAA', 'UAL',\n",
              "       'UDR', 'UHS', 'ULTA', 'UNH', 'UNM', 'UNP', 'UPS', 'URBN', 'URI',\n",
              "       'USB', 'UTX', 'V', 'VAR', 'VFC', 'VIAB', 'VLO', 'VMC', 'VNO',\n",
              "       'VRSK', 'VRSN', 'VRTX', 'VTR', 'VZ', 'WAT', 'WBA', 'WDC', 'WEC',\n",
              "       'WFC', 'WFM', 'WHR', 'WM', 'WMB', 'WMT', 'WU', 'WY', 'WYN', 'WYNN',\n",
              "       'XEC', 'XEL', 'XL', 'XLNX', 'XOM', 'XRAY', 'XRX', 'YHOO', 'YUM',\n",
              "       'ZBH', 'ZION', 'AIV', 'CHTR', 'LYB', 'GM', 'ABBV', 'DLPH', 'FB',\n",
              "       'FBHS', 'HCA', 'KMI', 'KORS', 'MPC', 'NLSN', 'PSX', 'TDG', 'TRIP',\n",
              "       'XYL', 'ZTS', 'COTY', 'MNK', 'NWS', 'NWSA', 'EVHC', 'ALLE', 'CFG',\n",
              "       'NAVI', 'QRVO', 'SYF', 'WRK', 'KHC', 'PYPL', 'HPE', 'CSRA', 'FTV'],\n",
              "      dtype=object)"
            ]
          },
          "metadata": {},
          "execution_count": 31
        }
      ]
    },
    {
      "cell_type": "code",
      "metadata": {
        "colab": {
          "base_uri": "https://localhost:8080/",
          "height": 200
        },
        "id": "TcKtWU-6FKBQ",
        "outputId": "0bf79018-bcf0-4c31-9e1a-92b05ae6da96"
      },
      "source": [
        "# NFLX is the company to predict the price\n",
        "df_nflx = df_prices[df_prices['symbol']=='NFLX']\n",
        "df_nflx.head()"
      ],
      "execution_count": 32,
      "outputs": [
        {
          "output_type": "execute_result",
          "data": {
            "text/html": [
              "<div>\n",
              "<style scoped>\n",
              "    .dataframe tbody tr th:only-of-type {\n",
              "        vertical-align: middle;\n",
              "    }\n",
              "\n",
              "    .dataframe tbody tr th {\n",
              "        vertical-align: top;\n",
              "    }\n",
              "\n",
              "    .dataframe thead th {\n",
              "        text-align: right;\n",
              "    }\n",
              "</style>\n",
              "<table border=\"1\" class=\"dataframe\">\n",
              "  <thead>\n",
              "    <tr style=\"text-align: right;\">\n",
              "      <th></th>\n",
              "      <th>date</th>\n",
              "      <th>symbol</th>\n",
              "      <th>open</th>\n",
              "      <th>close</th>\n",
              "      <th>low</th>\n",
              "      <th>high</th>\n",
              "      <th>volume</th>\n",
              "    </tr>\n",
              "  </thead>\n",
              "  <tbody>\n",
              "    <tr>\n",
              "      <th>555</th>\n",
              "      <td>2010-01-04</td>\n",
              "      <td>NFLX</td>\n",
              "      <td>55.519999</td>\n",
              "      <td>53.479999</td>\n",
              "      <td>52.960001</td>\n",
              "      <td>55.730000</td>\n",
              "      <td>17239600.0</td>\n",
              "    </tr>\n",
              "    <tr>\n",
              "      <th>1023</th>\n",
              "      <td>2010-01-05</td>\n",
              "      <td>NFLX</td>\n",
              "      <td>53.570001</td>\n",
              "      <td>51.510001</td>\n",
              "      <td>50.810001</td>\n",
              "      <td>53.599998</td>\n",
              "      <td>23753100.0</td>\n",
              "    </tr>\n",
              "    <tr>\n",
              "      <th>1491</th>\n",
              "      <td>2010-01-06</td>\n",
              "      <td>NFLX</td>\n",
              "      <td>51.530001</td>\n",
              "      <td>53.319999</td>\n",
              "      <td>50.380002</td>\n",
              "      <td>53.710001</td>\n",
              "      <td>23290400.0</td>\n",
              "    </tr>\n",
              "    <tr>\n",
              "      <th>1959</th>\n",
              "      <td>2010-01-07</td>\n",
              "      <td>NFLX</td>\n",
              "      <td>54.120000</td>\n",
              "      <td>52.400001</td>\n",
              "      <td>52.240001</td>\n",
              "      <td>54.300001</td>\n",
              "      <td>9955400.0</td>\n",
              "    </tr>\n",
              "    <tr>\n",
              "      <th>2427</th>\n",
              "      <td>2010-01-08</td>\n",
              "      <td>NFLX</td>\n",
              "      <td>52.490000</td>\n",
              "      <td>53.300002</td>\n",
              "      <td>52.260001</td>\n",
              "      <td>54.199999</td>\n",
              "      <td>8180900.0</td>\n",
              "    </tr>\n",
              "  </tbody>\n",
              "</table>\n",
              "</div>"
            ],
            "text/plain": [
              "            date symbol       open      close        low       high      volume\n",
              "555   2010-01-04   NFLX  55.519999  53.479999  52.960001  55.730000  17239600.0\n",
              "1023  2010-01-05   NFLX  53.570001  51.510001  50.810001  53.599998  23753100.0\n",
              "1491  2010-01-06   NFLX  51.530001  53.319999  50.380002  53.710001  23290400.0\n",
              "1959  2010-01-07   NFLX  54.120000  52.400001  52.240001  54.300001   9955400.0\n",
              "2427  2010-01-08   NFLX  52.490000  53.300002  52.260001  54.199999   8180900.0"
            ]
          },
          "metadata": {},
          "execution_count": 32
        }
      ]
    },
    {
      "cell_type": "code",
      "metadata": {
        "colab": {
          "base_uri": "https://localhost:8080/"
        },
        "id": "8UZVvJ-nFKBQ",
        "outputId": "1779b4fc-7191-4705-aa7f-58cc6b84e5f9"
      },
      "source": [
        "df_nflx.info()"
      ],
      "execution_count": 33,
      "outputs": [
        {
          "output_type": "stream",
          "name": "stdout",
          "text": [
            "<class 'pandas.core.frame.DataFrame'>\n",
            "Int64Index: 1762 entries, 555 to 851088\n",
            "Data columns (total 7 columns):\n",
            " #   Column  Non-Null Count  Dtype  \n",
            "---  ------  --------------  -----  \n",
            " 0   date    1762 non-null   object \n",
            " 1   symbol  1762 non-null   object \n",
            " 2   open    1762 non-null   float64\n",
            " 3   close   1762 non-null   float64\n",
            " 4   low     1762 non-null   float64\n",
            " 5   high    1762 non-null   float64\n",
            " 6   volume  1762 non-null   float64\n",
            "dtypes: float64(5), object(2)\n",
            "memory usage: 110.1+ KB\n"
          ]
        }
      ]
    },
    {
      "cell_type": "code",
      "metadata": {
        "colab": {
          "base_uri": "https://localhost:8080/",
          "height": 290
        },
        "id": "8yw0Y9ZwFKBQ",
        "outputId": "4b4d752f-c800-487f-d2b6-4f36cbaf5318"
      },
      "source": [
        "df_nflx.describe()"
      ],
      "execution_count": 34,
      "outputs": [
        {
          "output_type": "execute_result",
          "data": {
            "text/html": [
              "<div>\n",
              "<style scoped>\n",
              "    .dataframe tbody tr th:only-of-type {\n",
              "        vertical-align: middle;\n",
              "    }\n",
              "\n",
              "    .dataframe tbody tr th {\n",
              "        vertical-align: top;\n",
              "    }\n",
              "\n",
              "    .dataframe thead th {\n",
              "        text-align: right;\n",
              "    }\n",
              "</style>\n",
              "<table border=\"1\" class=\"dataframe\">\n",
              "  <thead>\n",
              "    <tr style=\"text-align: right;\">\n",
              "      <th></th>\n",
              "      <th>open</th>\n",
              "      <th>close</th>\n",
              "      <th>low</th>\n",
              "      <th>high</th>\n",
              "      <th>volume</th>\n",
              "    </tr>\n",
              "  </thead>\n",
              "  <tbody>\n",
              "    <tr>\n",
              "      <th>count</th>\n",
              "      <td>1762.000000</td>\n",
              "      <td>1762.000000</td>\n",
              "      <td>1762.000000</td>\n",
              "      <td>1762.000000</td>\n",
              "      <td>1.762000e+03</td>\n",
              "    </tr>\n",
              "    <tr>\n",
              "      <th>mean</th>\n",
              "      <td>210.116464</td>\n",
              "      <td>210.245181</td>\n",
              "      <td>206.697548</td>\n",
              "      <td>213.541112</td>\n",
              "      <td>2.738426e+07</td>\n",
              "    </tr>\n",
              "    <tr>\n",
              "      <th>std</th>\n",
              "      <td>146.775428</td>\n",
              "      <td>146.810946</td>\n",
              "      <td>145.213453</td>\n",
              "      <td>148.225811</td>\n",
              "      <td>2.393048e+07</td>\n",
              "    </tr>\n",
              "    <tr>\n",
              "      <th>min</th>\n",
              "      <td>48.720000</td>\n",
              "      <td>49.130000</td>\n",
              "      <td>48.519999</td>\n",
              "      <td>50.249999</td>\n",
              "      <td>1.616300e+06</td>\n",
              "    </tr>\n",
              "    <tr>\n",
              "      <th>25%</th>\n",
              "      <td>97.222501</td>\n",
              "      <td>97.587502</td>\n",
              "      <td>95.787502</td>\n",
              "      <td>99.434999</td>\n",
              "      <td>1.347185e+07</td>\n",
              "    </tr>\n",
              "    <tr>\n",
              "      <th>50%</th>\n",
              "      <td>142.564999</td>\n",
              "      <td>142.340000</td>\n",
              "      <td>140.020000</td>\n",
              "      <td>143.749999</td>\n",
              "      <td>2.116330e+07</td>\n",
              "    </tr>\n",
              "    <tr>\n",
              "      <th>75%</th>\n",
              "      <td>317.847488</td>\n",
              "      <td>318.154992</td>\n",
              "      <td>311.419998</td>\n",
              "      <td>325.127508</td>\n",
              "      <td>3.294988e+07</td>\n",
              "    </tr>\n",
              "    <tr>\n",
              "      <th>max</th>\n",
              "      <td>708.900017</td>\n",
              "      <td>707.610001</td>\n",
              "      <td>697.569984</td>\n",
              "      <td>716.159996</td>\n",
              "      <td>3.155418e+08</td>\n",
              "    </tr>\n",
              "  </tbody>\n",
              "</table>\n",
              "</div>"
            ],
            "text/plain": [
              "              open        close          low         high        volume\n",
              "count  1762.000000  1762.000000  1762.000000  1762.000000  1.762000e+03\n",
              "mean    210.116464   210.245181   206.697548   213.541112  2.738426e+07\n",
              "std     146.775428   146.810946   145.213453   148.225811  2.393048e+07\n",
              "min      48.720000    49.130000    48.519999    50.249999  1.616300e+06\n",
              "25%      97.222501    97.587502    95.787502    99.434999  1.347185e+07\n",
              "50%     142.564999   142.340000   140.020000   143.749999  2.116330e+07\n",
              "75%     317.847488   318.154992   311.419998   325.127508  3.294988e+07\n",
              "max     708.900017   707.610001   697.569984   716.159996  3.155418e+08"
            ]
          },
          "metadata": {},
          "execution_count": 34
        }
      ]
    },
    {
      "cell_type": "code",
      "metadata": {
        "colab": {
          "base_uri": "https://localhost:8080/",
          "height": 311
        },
        "id": "ySAN8J2BFKBR",
        "outputId": "df330ef2-8913-43a7-c623-ba38abada683"
      },
      "source": [
        "import matplotlib.pyplot as plt\n",
        "\n",
        "# display the NFLX initial close and open price\n",
        "plt.plot(df_nflx['date'], df_nflx['close'], color='g', label='close')\n",
        "plt.plot(df_nflx['date'], df_nflx['open'], color='r', label='open')\n",
        "plt.legend()\n",
        "\n",
        "plt.title('NFLX stock price')\n",
        "plt.xlabel('date')\n",
        "plt.ylabel('price')"
      ],
      "execution_count": 35,
      "outputs": [
        {
          "output_type": "execute_result",
          "data": {
            "text/plain": [
              "Text(0, 0.5, 'price')"
            ]
          },
          "metadata": {},
          "execution_count": 35
        },
        {
          "output_type": "display_data",
          "data": {
            "image/png": "[encoded data removed]",
            "text/plain": [
              "<Figure size 432x288 with 1 Axes>"
            ]
          },
          "metadata": {
            "needs_background": "light"
          }
        }
      ]
    },
    {
      "cell_type": "code",
      "metadata": {
        "colab": {
          "base_uri": "https://localhost:8080/",
          "height": 311
        },
        "id": "xqDKYvQ8FKBR",
        "outputId": "30a39465-787a-446b-d048-075704b1e66b"
      },
      "source": [
        "plt.plot(df_nflx['date'], df_nflx['volume'], color='y', label='volume')\n",
        "plt.legend()\n",
        "\n",
        "plt.title('NFLX stock volume')\n",
        "plt.xlabel('date')\n",
        "plt.ylabel('volume')"
      ],
      "execution_count": 36,
      "outputs": [
        {
          "output_type": "execute_result",
          "data": {
            "text/plain": [
              "Text(0, 0.5, 'volume')"
            ]
          },
          "metadata": {},
          "execution_count": 36
        },
        {
          "output_type": "display_data",
          "data": {
            "image/png": "[encoded data removed]",
            "text/plain": [
              "<Figure size 432x288 with 1 Axes>"
            ]
          },
          "metadata": {
            "needs_background": "light"
          }
        }
      ]
    },
    {
      "cell_type": "code",
      "metadata": {
        "colab": {
          "base_uri": "https://localhost:8080/"
        },
        "id": "-UQmYcmEFKBS",
        "outputId": "abce1646-a995-4cf9-8036-9c75810f92bb"
      },
      "source": [
        "X = df_nflx['close']\n",
        "date = df_nflx['date']\n",
        "\n",
        "X.shape"
      ],
      "execution_count": 37,
      "outputs": [
        {
          "output_type": "execute_result",
          "data": {
            "text/plain": [
              "(1762,)"
            ]
          },
          "metadata": {},
          "execution_count": 37
        }
      ]
    },
    {
      "cell_type": "markdown",
      "source": [
        "## **DATA Preprocessing **"
      ],
      "metadata": {
        "id": "_8YC0yoC3bUS"
      }
    },
    {
      "cell_type": "code",
      "metadata": {
        "colab": {
          "base_uri": "https://localhost:8080/"
        },
        "id": "_q6P-a-PFKBU",
        "outputId": "18f49026-6801-4a76-d52b-7943250692dd"
      },
      "source": [
        "\n",
        "\n",
        "length=50\n",
        "train_set = X.iloc[:1200].values.reshape(-1, 1)\n",
        "test_set = X.iloc[1200:].values.reshape(-1, 1)\n",
        "\n",
        "max_close = max(train_set)     #record the max num can transfer the normalized data into normal data \n",
        "min_close = min(test_set)\n",
        "\n",
        "date_train_set = date.iloc[:1200].values\n",
        "date_test_set = date.iloc[:1200].values\n",
        "from sklearn.preprocessing import MinMaxScaler  \n",
        "\n",
        "scaler = MinMaxScaler()\n",
        "\n",
        "train_set = scaler.fit_transform(train_set)   #normalization \n",
        "test_set = scaler.transform(test_set)\n",
        "\n",
        "print(max_close, min_close)\n",
        "print(train_set[:5])\n",
        "print(test_set[:5])\n"
      ],
      "execution_count": 38,
      "outputs": [
        {
          "output_type": "stream",
          "name": "stdout",
          "text": [
            "[484.389992] [82.790001]\n",
            "[[0.00999402]\n",
            " [0.005468  ]\n",
            " [0.00962643]\n",
            " [0.00751275]\n",
            " [0.00958049]]\n",
            "[[0.9476865 ]\n",
            " [0.92576849]\n",
            " [0.89475257]\n",
            " [0.91896805]\n",
            " [0.91775026]]\n"
          ]
        }
      ]
    },
    {
      "cell_type": "markdown",
      "metadata": {
        "id": "nPOA3OPWFKBV"
      },
      "source": [
        "# Obtain training data "
      ]
    },
    {
      "cell_type": "code",
      "metadata": {
        "colab": {
          "base_uri": "https://localhost:8080/"
        },
        "id": "C1_FZmmCFKBV",
        "outputId": "33924e5f-9188-4832-9a8c-64d9eb400485"
      },
      "source": [
        "X_train = []\n",
        "y_train = []\n",
        "\n",
        "# extract the training data \n",
        "# 1150 pieces of record \n",
        "for i in range(length, len(train_set)):\n",
        "    X_train.append(train_set[i-length:i, :])\n",
        "    y_train.append(train_set[i])\n",
        "\n",
        "X_train, y_train = np.array(X_train), np.array(y_train)\n",
        "\n",
        "\n",
        "X_train.shape, y_train.shape\n"
      ],
      "execution_count": 39,
      "outputs": [
        {
          "output_type": "execute_result",
          "data": {
            "text/plain": [
              "((1150, 50, 1), (1150, 1))"
            ]
          },
          "metadata": {},
          "execution_count": 39
        }
      ]
    },
    {
      "cell_type": "markdown",
      "metadata": {
        "id": "nJLugj5ZFKBW"
      },
      "source": [
        "# Testing Data Set"
      ]
    },
    {
      "cell_type": "code",
      "metadata": {
        "colab": {
          "base_uri": "https://localhost:8080/"
        },
        "id": "vGb0cPc4FKBW",
        "outputId": "8b9097eb-d345-4b52-ee7c-68eb272512e3"
      },
      "source": [
        "X_test = []\n",
        "y_test = []\n",
        "date_test = []\n",
        "for i in range(length, len(test_set)):\n",
        "    X_test.append(test_set[i-length:i, :])\n",
        "    y_test.append(test_set[i])\n",
        "    date_test.append(date_test_set[i])\n",
        "X_test, y_test = np.array(X_test), np.array(y_test)\n",
        "\n",
        "X_test.shape, y_test.shape, len(date_test)"
      ],
      "execution_count": 40,
      "outputs": [
        {
          "output_type": "execute_result",
          "data": {
            "text/plain": [
              "((512, 50, 1), (512, 1), 512)"
            ]
          },
          "metadata": {},
          "execution_count": 40
        }
      ]
    },
    {
      "cell_type": "markdown",
      "metadata": {
        "id": "VVYjjSecFKBW"
      },
      "source": [
        "# Build up a GRU model\n"
      ]
    },
    {
      "cell_type": "code",
      "metadata": {
        "colab": {
          "base_uri": "https://localhost:8080/"
        },
        "id": "el5fhqXmFKBW",
        "outputId": "5afb8709-3215-407c-b9ec-8bd42790de9a"
      },
      "source": [
        "from tensorflow.keras.layers import GRU, Dense\n",
        "from tensorflow.keras.models import Sequential\n",
        "# three layers with 50 cells for the model with tanh activation function \n",
        "model = Sequential()\n",
        "model.add(GRU(50, activation='tanh', recurrent_activation='sigmoid', input_shape = (X_train.shape[1],X_train.shape[2]), return_sequences=True))\n",
        "model.add(GRU(50, activation='tanh', recurrent_activation='sigmoid', return_sequences=True))\n",
        "model.add(GRU(50, activation='tanh', recurrent_activation='sigmoid'))\n",
        "model.add(Dense(32,kernel_initializer='uniform', activation='relu'))\n",
        "model.add(Dense(1,kernel_initializer='uniform', activation = 'linear'))\n",
        "model.summary()\n",
        "# model.compile(optimizer = 'adam', loss = 'mean_absolute_error')\n",
        "# mean_absolute_error is applied to demostrate the outcome of the network\n",
        "# adam optimizer \n",
        "model.compile(loss='mean_absolute_error', optimizer = 'adam' , metrics = ['mean_absolute_error'])\n"
      ],
      "execution_count": 41,
      "outputs": [
        {
          "output_type": "stream",
          "name": "stdout",
          "text": [
            "Model: \"sequential_1\"\n",
            "_________________________________________________________________\n",
            " Layer (type)                Output Shape              Param #   \n",
            "=================================================================\n",
            " gru_3 (GRU)                 (None, 50, 50)            7950      \n",
            "                                                                 \n",
            " gru_4 (GRU)                 (None, 50, 50)            15300     \n",
            "                                                                 \n",
            " gru_5 (GRU)                 (None, 50)                15300     \n",
            "                                                                 \n",
            " dense_2 (Dense)             (None, 32)                1632      \n",
            "                                                                 \n",
            " dense_3 (Dense)             (None, 1)                 33        \n",
            "                                                                 \n",
            "=================================================================\n",
            "Total params: 40,215\n",
            "Trainable params: 40,215\n",
            "Non-trainable params: 0\n",
            "_________________________________________________________________\n"
          ]
        }
      ]
    },
    {
      "cell_type": "code",
      "metadata": {
        "colab": {
          "base_uri": "https://localhost:8080/"
        },
        "id": "1LQjWw_EFKBX",
        "outputId": "bcb0e989-3768-455b-b1a1-7fadeb13ab5d"
      },
      "source": [
        "model.fit(X_train, y_train, validation_data=(X_test,y_test),epochs = 100, batch_size = 64)\n"
      ],
      "execution_count": 42,
      "outputs": [
        {
          "output_type": "stream",
          "name": "stdout",
          "text": [
            "Epoch 1/100\n",
            "18/18 [==============================] - 8s 164ms/step - loss: 0.2843 - mean_absolute_error: 0.2843 - val_loss: 0.2859 - val_mean_absolute_error: 0.2859\n",
            "Epoch 2/100\n",
            "18/18 [==============================] - 2s 98ms/step - loss: 0.1348 - mean_absolute_error: 0.1348 - val_loss: 0.1382 - val_mean_absolute_error: 0.1382\n",
            "Epoch 3/100\n",
            "18/18 [==============================] - 2s 96ms/step - loss: 0.0460 - mean_absolute_error: 0.0460 - val_loss: 0.0649 - val_mean_absolute_error: 0.0649\n",
            "Epoch 4/100\n",
            "18/18 [==============================] - 2s 100ms/step - loss: 0.0322 - mean_absolute_error: 0.0322 - val_loss: 0.0509 - val_mean_absolute_error: 0.0509\n",
            "Epoch 5/100\n",
            "18/18 [==============================] - 2s 98ms/step - loss: 0.0257 - mean_absolute_error: 0.0257 - val_loss: 0.0465 - val_mean_absolute_error: 0.0465\n",
            "Epoch 6/100\n",
            "18/18 [==============================] - 2s 98ms/step - loss: 0.0201 - mean_absolute_error: 0.0201 - val_loss: 0.0427 - val_mean_absolute_error: 0.0427\n",
            "Epoch 7/100\n",
            "18/18 [==============================] - 2s 98ms/step - loss: 0.0183 - mean_absolute_error: 0.0183 - val_loss: 0.0364 - val_mean_absolute_error: 0.0364\n",
            "Epoch 8/100\n",
            "18/18 [==============================] - 2s 98ms/step - loss: 0.0176 - mean_absolute_error: 0.0176 - val_loss: 0.0354 - val_mean_absolute_error: 0.0354\n",
            "Epoch 9/100\n",
            "18/18 [==============================] - 2s 99ms/step - loss: 0.0172 - mean_absolute_error: 0.0172 - val_loss: 0.0323 - val_mean_absolute_error: 0.0323\n",
            "Epoch 10/100\n",
            "18/18 [==============================] - 2s 98ms/step - loss: 0.0183 - mean_absolute_error: 0.0183 - val_loss: 0.0321 - val_mean_absolute_error: 0.0321\n",
            "Epoch 11/100\n",
            "18/18 [==============================] - 2s 102ms/step - loss: 0.0171 - mean_absolute_error: 0.0171 - val_loss: 0.0315 - val_mean_absolute_error: 0.0315\n",
            "Epoch 12/100\n",
            "18/18 [==============================] - 2s 102ms/step - loss: 0.0148 - mean_absolute_error: 0.0148 - val_loss: 0.0310 - val_mean_absolute_error: 0.0310\n",
            "Epoch 13/100\n",
            "18/18 [==============================] - 2s 103ms/step - loss: 0.0147 - mean_absolute_error: 0.0147 - val_loss: 0.0267 - val_mean_absolute_error: 0.0267\n",
            "Epoch 14/100\n",
            "18/18 [==============================] - 2s 98ms/step - loss: 0.0137 - mean_absolute_error: 0.0137 - val_loss: 0.0290 - val_mean_absolute_error: 0.0290\n",
            "Epoch 15/100\n",
            "18/18 [==============================] - 2s 101ms/step - loss: 0.0140 - mean_absolute_error: 0.0140 - val_loss: 0.0286 - val_mean_absolute_error: 0.0286\n",
            "Epoch 16/100\n",
            "18/18 [==============================] - 2s 98ms/step - loss: 0.0143 - mean_absolute_error: 0.0143 - val_loss: 0.0240 - val_mean_absolute_error: 0.0240\n",
            "Epoch 17/100\n",
            "18/18 [==============================] - 2s 99ms/step - loss: 0.0142 - mean_absolute_error: 0.0142 - val_loss: 0.0226 - val_mean_absolute_error: 0.0226\n",
            "Epoch 18/100\n",
            "18/18 [==============================] - 2s 99ms/step - loss: 0.0140 - mean_absolute_error: 0.0140 - val_loss: 0.0245 - val_mean_absolute_error: 0.0245\n",
            "Epoch 19/100\n",
            "18/18 [==============================] - 2s 99ms/step - loss: 0.0132 - mean_absolute_error: 0.0132 - val_loss: 0.0229 - val_mean_absolute_error: 0.0229\n",
            "Epoch 20/100\n",
            "18/18 [==============================] - 2s 104ms/step - loss: 0.0127 - mean_absolute_error: 0.0127 - val_loss: 0.0225 - val_mean_absolute_error: 0.0225\n",
            "Epoch 21/100\n",
            "18/18 [==============================] - 2s 107ms/step - loss: 0.0127 - mean_absolute_error: 0.0127 - val_loss: 0.0229 - val_mean_absolute_error: 0.0229\n",
            "Epoch 22/100\n",
            "18/18 [==============================] - 2s 99ms/step - loss: 0.0120 - mean_absolute_error: 0.0120 - val_loss: 0.0265 - val_mean_absolute_error: 0.0265\n",
            "Epoch 23/100\n",
            "18/18 [==============================] - 2s 100ms/step - loss: 0.0131 - mean_absolute_error: 0.0131 - val_loss: 0.0262 - val_mean_absolute_error: 0.0262\n",
            "Epoch 24/100\n",
            "18/18 [==============================] - 2s 98ms/step - loss: 0.0122 - mean_absolute_error: 0.0122 - val_loss: 0.0220 - val_mean_absolute_error: 0.0220\n",
            "Epoch 25/100\n",
            "18/18 [==============================] - 2s 96ms/step - loss: 0.0116 - mean_absolute_error: 0.0116 - val_loss: 0.0201 - val_mean_absolute_error: 0.0201\n",
            "Epoch 26/100\n",
            "18/18 [==============================] - 2s 98ms/step - loss: 0.0122 - mean_absolute_error: 0.0122 - val_loss: 0.0197 - val_mean_absolute_error: 0.0197\n",
            "Epoch 27/100\n",
            "18/18 [==============================] - 2s 98ms/step - loss: 0.0141 - mean_absolute_error: 0.0141 - val_loss: 0.0246 - val_mean_absolute_error: 0.0246\n",
            "Epoch 28/100\n",
            "18/18 [==============================] - 2s 100ms/step - loss: 0.0131 - mean_absolute_error: 0.0131 - val_loss: 0.0199 - val_mean_absolute_error: 0.0199\n",
            "Epoch 29/100\n",
            "18/18 [==============================] - 2s 100ms/step - loss: 0.0111 - mean_absolute_error: 0.0111 - val_loss: 0.0206 - val_mean_absolute_error: 0.0206\n",
            "Epoch 30/100\n",
            "18/18 [==============================] - 2s 99ms/step - loss: 0.0113 - mean_absolute_error: 0.0113 - val_loss: 0.0226 - val_mean_absolute_error: 0.0226\n",
            "Epoch 31/100\n",
            "18/18 [==============================] - 2s 97ms/step - loss: 0.0120 - mean_absolute_error: 0.0120 - val_loss: 0.0188 - val_mean_absolute_error: 0.0188\n",
            "Epoch 32/100\n",
            "18/18 [==============================] - 2s 99ms/step - loss: 0.0109 - mean_absolute_error: 0.0109 - val_loss: 0.0197 - val_mean_absolute_error: 0.0197\n",
            "Epoch 33/100\n",
            "18/18 [==============================] - 2s 100ms/step - loss: 0.0121 - mean_absolute_error: 0.0121 - val_loss: 0.0186 - val_mean_absolute_error: 0.0186\n",
            "Epoch 34/100\n",
            "18/18 [==============================] - 2s 100ms/step - loss: 0.0119 - mean_absolute_error: 0.0119 - val_loss: 0.0195 - val_mean_absolute_error: 0.0195\n",
            "Epoch 35/100\n",
            "18/18 [==============================] - 2s 99ms/step - loss: 0.0112 - mean_absolute_error: 0.0112 - val_loss: 0.0163 - val_mean_absolute_error: 0.0163\n",
            "Epoch 36/100\n",
            "18/18 [==============================] - 2s 98ms/step - loss: 0.0121 - mean_absolute_error: 0.0121 - val_loss: 0.0197 - val_mean_absolute_error: 0.0197\n",
            "Epoch 37/100\n",
            "18/18 [==============================] - 2s 98ms/step - loss: 0.0108 - mean_absolute_error: 0.0108 - val_loss: 0.0186 - val_mean_absolute_error: 0.0186\n",
            "Epoch 38/100\n",
            "18/18 [==============================] - 2s 99ms/step - loss: 0.0112 - mean_absolute_error: 0.0112 - val_loss: 0.0163 - val_mean_absolute_error: 0.0163\n",
            "Epoch 39/100\n",
            "18/18 [==============================] - 2s 98ms/step - loss: 0.0119 - mean_absolute_error: 0.0119 - val_loss: 0.0288 - val_mean_absolute_error: 0.0288\n",
            "Epoch 40/100\n",
            "18/18 [==============================] - 2s 99ms/step - loss: 0.0150 - mean_absolute_error: 0.0150 - val_loss: 0.0218 - val_mean_absolute_error: 0.0218\n",
            "Epoch 41/100\n",
            "18/18 [==============================] - 2s 97ms/step - loss: 0.0119 - mean_absolute_error: 0.0119 - val_loss: 0.0169 - val_mean_absolute_error: 0.0169\n",
            "Epoch 42/100\n",
            "18/18 [==============================] - 2s 99ms/step - loss: 0.0111 - mean_absolute_error: 0.0111 - val_loss: 0.0172 - val_mean_absolute_error: 0.0172\n",
            "Epoch 43/100\n",
            "18/18 [==============================] - 2s 100ms/step - loss: 0.0113 - mean_absolute_error: 0.0113 - val_loss: 0.0161 - val_mean_absolute_error: 0.0161\n",
            "Epoch 44/100\n",
            "18/18 [==============================] - 2s 98ms/step - loss: 0.0106 - mean_absolute_error: 0.0106 - val_loss: 0.0179 - val_mean_absolute_error: 0.0179\n",
            "Epoch 45/100\n",
            "18/18 [==============================] - 2s 96ms/step - loss: 0.0115 - mean_absolute_error: 0.0115 - val_loss: 0.0209 - val_mean_absolute_error: 0.0209\n",
            "Epoch 46/100\n",
            "18/18 [==============================] - 2s 102ms/step - loss: 0.0109 - mean_absolute_error: 0.0109 - val_loss: 0.0163 - val_mean_absolute_error: 0.0163\n",
            "Epoch 47/100\n",
            "18/18 [==============================] - 2s 101ms/step - loss: 0.0109 - mean_absolute_error: 0.0109 - val_loss: 0.0160 - val_mean_absolute_error: 0.0160\n",
            "Epoch 48/100\n",
            "18/18 [==============================] - 2s 100ms/step - loss: 0.0115 - mean_absolute_error: 0.0115 - val_loss: 0.0223 - val_mean_absolute_error: 0.0223\n",
            "Epoch 49/100\n",
            "18/18 [==============================] - 2s 99ms/step - loss: 0.0109 - mean_absolute_error: 0.0109 - val_loss: 0.0184 - val_mean_absolute_error: 0.0184\n",
            "Epoch 50/100\n",
            "18/18 [==============================] - 2s 101ms/step - loss: 0.0110 - mean_absolute_error: 0.0110 - val_loss: 0.0153 - val_mean_absolute_error: 0.0153\n",
            "Epoch 51/100\n",
            "18/18 [==============================] - 2s 99ms/step - loss: 0.0123 - mean_absolute_error: 0.0123 - val_loss: 0.0177 - val_mean_absolute_error: 0.0177\n",
            "Epoch 52/100\n",
            "18/18 [==============================] - 2s 102ms/step - loss: 0.0110 - mean_absolute_error: 0.0110 - val_loss: 0.0174 - val_mean_absolute_error: 0.0174\n",
            "Epoch 53/100\n",
            "18/18 [==============================] - 2s 98ms/step - loss: 0.0113 - mean_absolute_error: 0.0113 - val_loss: 0.0165 - val_mean_absolute_error: 0.0165\n",
            "Epoch 54/100\n",
            "18/18 [==============================] - 2s 103ms/step - loss: 0.0110 - mean_absolute_error: 0.0110 - val_loss: 0.0191 - val_mean_absolute_error: 0.0191\n",
            "Epoch 55/100\n",
            "18/18 [==============================] - 2s 98ms/step - loss: 0.0114 - mean_absolute_error: 0.0114 - val_loss: 0.0192 - val_mean_absolute_error: 0.0192\n",
            "Epoch 56/100\n",
            "18/18 [==============================] - 2s 99ms/step - loss: 0.0112 - mean_absolute_error: 0.0112 - val_loss: 0.0167 - val_mean_absolute_error: 0.0167\n",
            "Epoch 57/100\n",
            "18/18 [==============================] - 2s 99ms/step - loss: 0.0115 - mean_absolute_error: 0.0115 - val_loss: 0.0167 - val_mean_absolute_error: 0.0167\n",
            "Epoch 58/100\n",
            "18/18 [==============================] - 2s 106ms/step - loss: 0.0114 - mean_absolute_error: 0.0114 - val_loss: 0.0166 - val_mean_absolute_error: 0.0166\n",
            "Epoch 59/100\n",
            "18/18 [==============================] - 2s 99ms/step - loss: 0.0112 - mean_absolute_error: 0.0112 - val_loss: 0.0171 - val_mean_absolute_error: 0.0171\n",
            "Epoch 60/100\n",
            "18/18 [==============================] - 2s 102ms/step - loss: 0.0109 - mean_absolute_error: 0.0109 - val_loss: 0.0171 - val_mean_absolute_error: 0.0171\n",
            "Epoch 61/100\n",
            "18/18 [==============================] - 2s 100ms/step - loss: 0.0114 - mean_absolute_error: 0.0114 - val_loss: 0.0192 - val_mean_absolute_error: 0.0192\n",
            "Epoch 62/100\n",
            "18/18 [==============================] - 2s 106ms/step - loss: 0.0111 - mean_absolute_error: 0.0111 - val_loss: 0.0150 - val_mean_absolute_error: 0.0150\n",
            "Epoch 63/100\n",
            "18/18 [==============================] - 2s 100ms/step - loss: 0.0106 - mean_absolute_error: 0.0106 - val_loss: 0.0172 - val_mean_absolute_error: 0.0172\n",
            "Epoch 64/100\n",
            "18/18 [==============================] - 2s 99ms/step - loss: 0.0123 - mean_absolute_error: 0.0123 - val_loss: 0.0181 - val_mean_absolute_error: 0.0181\n",
            "Epoch 65/100\n",
            "18/18 [==============================] - 2s 98ms/step - loss: 0.0105 - mean_absolute_error: 0.0105 - val_loss: 0.0150 - val_mean_absolute_error: 0.0150\n",
            "Epoch 66/100\n",
            "18/18 [==============================] - 2s 97ms/step - loss: 0.0114 - mean_absolute_error: 0.0114 - val_loss: 0.0178 - val_mean_absolute_error: 0.0178\n",
            "Epoch 67/100\n",
            "18/18 [==============================] - 2s 100ms/step - loss: 0.0120 - mean_absolute_error: 0.0120 - val_loss: 0.0152 - val_mean_absolute_error: 0.0152\n",
            "Epoch 68/100\n",
            "18/18 [==============================] - 2s 103ms/step - loss: 0.0106 - mean_absolute_error: 0.0106 - val_loss: 0.0183 - val_mean_absolute_error: 0.0183\n",
            "Epoch 69/100\n",
            "18/18 [==============================] - 2s 99ms/step - loss: 0.0109 - mean_absolute_error: 0.0109 - val_loss: 0.0183 - val_mean_absolute_error: 0.0183\n",
            "Epoch 70/100\n",
            "18/18 [==============================] - 2s 97ms/step - loss: 0.0116 - mean_absolute_error: 0.0116 - val_loss: 0.0178 - val_mean_absolute_error: 0.0178\n",
            "Epoch 71/100\n",
            "18/18 [==============================] - 2s 98ms/step - loss: 0.0106 - mean_absolute_error: 0.0106 - val_loss: 0.0158 - val_mean_absolute_error: 0.0158\n",
            "Epoch 72/100\n",
            "18/18 [==============================] - 2s 99ms/step - loss: 0.0111 - mean_absolute_error: 0.0111 - val_loss: 0.0173 - val_mean_absolute_error: 0.0173\n",
            "Epoch 73/100\n",
            "18/18 [==============================] - 2s 102ms/step - loss: 0.0104 - mean_absolute_error: 0.0104 - val_loss: 0.0208 - val_mean_absolute_error: 0.0208\n",
            "Epoch 74/100\n",
            "18/18 [==============================] - 2s 100ms/step - loss: 0.0128 - mean_absolute_error: 0.0128 - val_loss: 0.0246 - val_mean_absolute_error: 0.0246\n",
            "Epoch 75/100\n",
            "18/18 [==============================] - 2s 104ms/step - loss: 0.0111 - mean_absolute_error: 0.0111 - val_loss: 0.0183 - val_mean_absolute_error: 0.0183\n",
            "Epoch 76/100\n",
            "18/18 [==============================] - 2s 102ms/step - loss: 0.0104 - mean_absolute_error: 0.0104 - val_loss: 0.0147 - val_mean_absolute_error: 0.0147\n",
            "Epoch 77/100\n",
            "18/18 [==============================] - 2s 101ms/step - loss: 0.0104 - mean_absolute_error: 0.0104 - val_loss: 0.0175 - val_mean_absolute_error: 0.0175\n",
            "Epoch 78/100\n",
            "18/18 [==============================] - 2s 101ms/step - loss: 0.0107 - mean_absolute_error: 0.0107 - val_loss: 0.0183 - val_mean_absolute_error: 0.0183\n",
            "Epoch 79/100\n",
            "18/18 [==============================] - 2s 101ms/step - loss: 0.0112 - mean_absolute_error: 0.0112 - val_loss: 0.0170 - val_mean_absolute_error: 0.0170\n",
            "Epoch 80/100\n",
            "18/18 [==============================] - 2s 101ms/step - loss: 0.0112 - mean_absolute_error: 0.0112 - val_loss: 0.0186 - val_mean_absolute_error: 0.0186\n",
            "Epoch 81/100\n",
            "18/18 [==============================] - 2s 100ms/step - loss: 0.0123 - mean_absolute_error: 0.0123 - val_loss: 0.0170 - val_mean_absolute_error: 0.0170\n",
            "Epoch 82/100\n",
            "18/18 [==============================] - 2s 101ms/step - loss: 0.0131 - mean_absolute_error: 0.0131 - val_loss: 0.0208 - val_mean_absolute_error: 0.0208\n",
            "Epoch 83/100\n",
            "18/18 [==============================] - 2s 101ms/step - loss: 0.0134 - mean_absolute_error: 0.0134 - val_loss: 0.0194 - val_mean_absolute_error: 0.0194\n",
            "Epoch 84/100\n",
            "18/18 [==============================] - 2s 101ms/step - loss: 0.0109 - mean_absolute_error: 0.0109 - val_loss: 0.0157 - val_mean_absolute_error: 0.0157\n",
            "Epoch 85/100\n",
            "18/18 [==============================] - 2s 102ms/step - loss: 0.0104 - mean_absolute_error: 0.0104 - val_loss: 0.0167 - val_mean_absolute_error: 0.0167\n",
            "Epoch 86/100\n",
            "18/18 [==============================] - 2s 102ms/step - loss: 0.0108 - mean_absolute_error: 0.0108 - val_loss: 0.0176 - val_mean_absolute_error: 0.0176\n",
            "Epoch 87/100\n",
            "18/18 [==============================] - 2s 100ms/step - loss: 0.0112 - mean_absolute_error: 0.0112 - val_loss: 0.0181 - val_mean_absolute_error: 0.0181\n",
            "Epoch 88/100\n",
            "18/18 [==============================] - 2s 98ms/step - loss: 0.0110 - mean_absolute_error: 0.0110 - val_loss: 0.0160 - val_mean_absolute_error: 0.0160\n",
            "Epoch 89/100\n",
            "18/18 [==============================] - 2s 101ms/step - loss: 0.0108 - mean_absolute_error: 0.0108 - val_loss: 0.0174 - val_mean_absolute_error: 0.0174\n",
            "Epoch 90/100\n",
            "18/18 [==============================] - 2s 101ms/step - loss: 0.0106 - mean_absolute_error: 0.0106 - val_loss: 0.0160 - val_mean_absolute_error: 0.0160\n",
            "Epoch 91/100\n",
            "18/18 [==============================] - 2s 107ms/step - loss: 0.0116 - mean_absolute_error: 0.0116 - val_loss: 0.0157 - val_mean_absolute_error: 0.0157\n",
            "Epoch 92/100\n",
            "18/18 [==============================] - 2s 98ms/step - loss: 0.0106 - mean_absolute_error: 0.0106 - val_loss: 0.0172 - val_mean_absolute_error: 0.0172\n",
            "Epoch 93/100\n",
            "18/18 [==============================] - 2s 100ms/step - loss: 0.0105 - mean_absolute_error: 0.0105 - val_loss: 0.0158 - val_mean_absolute_error: 0.0158\n",
            "Epoch 94/100\n",
            "18/18 [==============================] - 2s 99ms/step - loss: 0.0105 - mean_absolute_error: 0.0105 - val_loss: 0.0145 - val_mean_absolute_error: 0.0145\n",
            "Epoch 95/100\n",
            "18/18 [==============================] - 2s 100ms/step - loss: 0.0123 - mean_absolute_error: 0.0123 - val_loss: 0.0163 - val_mean_absolute_error: 0.0163\n",
            "Epoch 96/100\n",
            "18/18 [==============================] - 2s 98ms/step - loss: 0.0113 - mean_absolute_error: 0.0113 - val_loss: 0.0159 - val_mean_absolute_error: 0.0159\n",
            "Epoch 97/100\n",
            "18/18 [==============================] - 2s 100ms/step - loss: 0.0122 - mean_absolute_error: 0.0122 - val_loss: 0.0197 - val_mean_absolute_error: 0.0197\n",
            "Epoch 98/100\n",
            "18/18 [==============================] - 2s 99ms/step - loss: 0.0109 - mean_absolute_error: 0.0109 - val_loss: 0.0180 - val_mean_absolute_error: 0.0180\n",
            "Epoch 99/100\n",
            "18/18 [==============================] - 2s 103ms/step - loss: 0.0104 - mean_absolute_error: 0.0104 - val_loss: 0.0234 - val_mean_absolute_error: 0.0234\n",
            "Epoch 100/100\n",
            "18/18 [==============================] - 2s 100ms/step - loss: 0.0110 - mean_absolute_error: 0.0110 - val_loss: 0.0155 - val_mean_absolute_error: 0.0155\n"
          ]
        },
        {
          "output_type": "execute_result",
          "data": {
            "text/plain": [
              "<keras.callbacks.History at 0x7fa01195cc50>"
            ]
          },
          "metadata": {},
          "execution_count": 42
        }
      ]
    },
    {
      "cell_type": "code",
      "metadata": {
        "colab": {
          "base_uri": "https://localhost:8080/",
          "height": 311
        },
        "id": "uY9n7Rv3FKBX",
        "outputId": "5c10c805-8178-4c47-e6b3-f43264e9aade"
      },
      "source": [
        "# display the loss curve \n",
        "plt.plot(model.history.history['loss'],label='train Loss')\n",
        "plt.plot(model.history.history['val_loss'],label='val Loss')\n",
        "plt.ylabel('loss')\n",
        "plt.xlabel('epoch')\n",
        "plt.title('MAE loss curve')\n",
        "plt.legend()"
      ],
      "execution_count": 43,
      "outputs": [
        {
          "output_type": "execute_result",
          "data": {
            "text/plain": [
              "<matplotlib.legend.Legend at 0x7fa00eae82d0>"
            ]
          },
          "metadata": {},
          "execution_count": 43
        },
        {
          "output_type": "display_data",
          "data": {
            "image/png": "[encoded data removed]",
            "text/plain": [
              "<Figure size 432x288 with 1 Axes>"
            ]
          },
          "metadata": {
            "needs_background": "light"
          }
        }
      ]
    },
    {
      "cell_type": "markdown",
      "metadata": {
        "id": "RsaN6CbCFKBX"
      },
      "source": [
        "# Transfer the normolized num\n"
      ]
    },
    {
      "cell_type": "code",
      "metadata": {
        "colab": {
          "base_uri": "https://localhost:8080/"
        },
        "id": "OGl1gUcHFKBY",
        "outputId": "161a968d-1015-4ec5-9a38-ae7c7f0a67c2"
      },
      "source": [
        "y_pred = model.predict(X_test)\n",
        "\n",
        "scaler2 = MinMaxScaler(feature_range = (min_close, max_close))\n",
        "y_pred_scaled = scaler2.fit_transform(y_pred)\n",
        "y_test_scaled = scaler2.transform(y_test)\n",
        "\n",
        "print(y_pred_scaled[:5])\n",
        "print(y_test_scaled[:5])"
      ],
      "execution_count": 44,
      "outputs": [
        {
          "output_type": "stream",
          "name": "stdout",
          "text": [
            "[[265.98337]\n",
            " [270.14825]\n",
            " [267.51608]\n",
            " [267.56244]\n",
            " [271.51645]]\n",
            "[[267.37196211]\n",
            " [265.04269845]\n",
            " [264.87342521]\n",
            " [268.71265658]\n",
            " [267.3245724 ]]\n"
          ]
        }
      ]
    },
    {
      "cell_type": "code",
      "metadata": {
        "colab": {
          "base_uri": "https://localhost:8080/"
        },
        "id": "TEz59ZWTFKBY",
        "outputId": "07e6d257-660b-437f-d734-b20de64bb903"
      },
      "source": [
        "from sklearn.metrics import r2_score, mean_absolute_error, mean_squared_error\n",
        "# from keras.optimizers import  SGD , RMSprop\n",
        "\n",
        "# display mae, mse score\n",
        "r2 = r2_score(y_test,y_pred)\n",
        "mae= mean_absolute_error(y_test,y_pred)\n",
        "mse = mean_squared_error(y_test,y_pred)\n",
        "r2, mae, mse"
      ],
      "execution_count": 45,
      "outputs": [
        {
          "output_type": "execute_result",
          "data": {
            "text/plain": [
              "(0.979376807556614, 0.015452827870387481, 0.003904338414615642)"
            ]
          },
          "metadata": {},
          "execution_count": 45
        }
      ]
    },
    {
      "cell_type": "code",
      "metadata": {
        "colab": {
          "base_uri": "https://localhost:8080/",
          "height": 311
        },
        "id": "iaYEZSTIFKBY",
        "outputId": "ea144564-5d5a-4fb2-9c9f-18ad8f358bed"
      },
      "source": [
        "plt.plot(date_test, y_pred_scaled, color='r', label='predict')\n",
        "plt.plot(date_test, y_test_scaled, color='b', label='actual')\n",
        "plt.legend()\n",
        "\n",
        "# predict and actual price display\n",
        "plt.title('Predict vs Actual')\n",
        "plt.xlabel('date')\n",
        "plt.ylabel('close')"
      ],
      "execution_count": 46,
      "outputs": [
        {
          "output_type": "execute_result",
          "data": {
            "text/plain": [
              "Text(0, 0.5, 'close')"
            ]
          },
          "metadata": {},
          "execution_count": 46
        },
        {
          "output_type": "display_data",
          "data": {
            "image/png": "[encoded data removed]",
            "text/plain": [
              "<Figure size 432x288 with 1 Axes>"
            ]
          },
          "metadata": {
            "needs_background": "light"
          }
        }
      ]
    }
  ]
}